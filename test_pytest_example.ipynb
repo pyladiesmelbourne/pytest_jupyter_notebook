{
 "cells": [
  {
   "cell_type": "code",
   "execution_count": 24,
   "metadata": {
    "collapsed": false
   },
   "outputs": [
    {
     "name": "stdout",
     "output_type": "stream",
     "text": [
      "Requirement already satisfied: pytest in /anaconda/lib/python3.5/site-packages\n",
      "Requirement already satisfied: py>=1.4.29 in /anaconda/lib/python3.5/site-packages (from pytest)\n"
     ]
    }
   ],
   "source": [
    "!pip install pytest"
   ]
  },
  {
   "cell_type": "code",
   "execution_count": 25,
   "metadata": {
    "collapsed": false
   },
   "outputs": [
    {
     "name": "stdout",
     "output_type": "stream",
     "text": [
      "Requirement already satisfied: pytest-ipynb in /anaconda/lib/python3.5/site-packages/pytest_ipynb-1.1.0-py3.5.egg\n",
      "Requirement already satisfied: pytest in /anaconda/lib/python3.5/site-packages (from pytest-ipynb)\n",
      "Requirement already satisfied: runipy in /anaconda/lib/python3.5/site-packages (from pytest-ipynb)\n",
      "Requirement already satisfied: py>=1.4.29 in /anaconda/lib/python3.5/site-packages (from pytest->pytest-ipynb)\n",
      "Requirement already satisfied: Jinja2>=2.7.2 in /anaconda/lib/python3.5/site-packages (from runipy->pytest-ipynb)\n",
      "Requirement already satisfied: Pygments>=1.6 in /anaconda/lib/python3.5/site-packages (from runipy->pytest-ipynb)\n",
      "Requirement already satisfied: ipython>=2.3.1 in /anaconda/lib/python3.5/site-packages (from runipy->pytest-ipynb)\n",
      "Requirement already satisfied: pyzmq>=14.1.0 in /anaconda/lib/python3.5/site-packages (from runipy->pytest-ipynb)\n",
      "Requirement already satisfied: ipykernel>=4.0.0 in /anaconda/lib/python3.5/site-packages (from runipy->pytest-ipynb)\n",
      "Requirement already satisfied: nbconvert>=4.0.0 in /anaconda/lib/python3.5/site-packages (from runipy->pytest-ipynb)\n",
      "Requirement already satisfied: nbformat>=4.0.0 in /anaconda/lib/python3.5/site-packages (from runipy->pytest-ipynb)\n",
      "Requirement already satisfied: MarkupSafe in /anaconda/lib/python3.5/site-packages (from Jinja2>=2.7.2->runipy->pytest-ipynb)\n",
      "Requirement already satisfied: jsonschema!=2.5.0,>=2.4 in /anaconda/lib/python3.5/site-packages (from nbformat>=4.0.0->runipy->pytest-ipynb)\n",
      "Requirement already satisfied: ipython-genutils in /anaconda/lib/python3.5/site-packages (from nbformat>=4.0.0->runipy->pytest-ipynb)\n",
      "Requirement already satisfied: jupyter-core in /anaconda/lib/python3.5/site-packages (from nbformat>=4.0.0->runipy->pytest-ipynb)\n",
      "Requirement already satisfied: traitlets>=4.1 in /anaconda/lib/python3.5/site-packages (from nbformat>=4.0.0->runipy->pytest-ipynb)\n"
     ]
    }
   ],
   "source": [
    "!pip install pytest-ipynb"
   ]
  },
  {
   "cell_type": "code",
   "execution_count": 26,
   "metadata": {
    "collapsed": true
   },
   "outputs": [],
   "source": [
    "import pytest"
   ]
  },
  {
   "cell_type": "code",
   "execution_count": 27,
   "metadata": {
    "collapsed": true
   },
   "outputs": [],
   "source": [
    "def mysterious_fn(a, b):\n",
    "    return a + b"
   ]
  },
  {
   "cell_type": "code",
   "execution_count": 28,
   "metadata": {
    "collapsed": true
   },
   "outputs": [],
   "source": [
    "# NOPE!\n",
    "def test_mysterious_fn():\n",
    "    assert mysterious_fn(7, 7) == 14\n",
    "\n",
    "def test_mysterious_fn_2():\n",
    "    assert mysterious_fn('7', '7') == '77'"
   ]
  },
  {
   "cell_type": "code",
   "execution_count": 29,
   "metadata": {
    "collapsed": true
   },
   "outputs": [],
   "source": [
    "# NOPE! NOPE!!\n",
    "def test_mysterious_fn():\n",
    "    assert mysterious_fn(7, 7) == 14\n",
    "    assert mysterious_fn('7', '7') == '77'"
   ]
  },
  {
   "cell_type": "code",
   "execution_count": 30,
   "metadata": {
    "collapsed": true
   },
   "outputs": [],
   "source": [
    "# Yes!\n",
    "@pytest.mark.parametrize(('a', 'b', 'expected'), [\n",
    "    (7, 7, 14),\n",
    "    ('7', '7', '77'),\n",
    "    ])\n",
    "def test_mysterious_fn(a, b, expected):\n",
    "    \n",
    "    assert mysterious_fn(a, b) == expected"
   ]
  },
  {
   "cell_type": "code",
   "execution_count": 31,
   "metadata": {
    "collapsed": false
   },
   "outputs": [
    {
     "name": "stdout",
     "output_type": "stream",
     "text": [
      "\u001b[1m============================= test session starts ==============================\u001b[0m\n",
      "platform darwin -- Python 3.5.1, pytest-3.0.3, py-1.4.31, pluggy-0.4.0\n",
      "rootdir: /Users/maree/py/notebooks, inifile: \n",
      "plugins: ipynb-1.1.0\n",
      "collected 8 items \n",
      "\u001b[0m\n",
      "test_pytest_example.ipynb .......F\n",
      "\n",
      "=================================== FAILURES ===================================\n",
      "\u001b[31m\u001b[1m_______________________________________  _______________________________________\u001b[0m\n",
      "pytest plugin exception: 'str' object is not callable\n",
      "\u001b[31m\u001b[1m===================== 1 failed, 7 passed in 24.18 seconds ======================\u001b[0m\n"
     ]
    }
   ],
   "source": [
    "!pytest"
   ]
  },
  {
   "cell_type": "code",
   "execution_count": null,
   "metadata": {
    "collapsed": true
   },
   "outputs": [],
   "source": []
  }
 ],
 "metadata": {
  "kernelspec": {
   "display_name": "Python 3",
   "language": "python",
   "name": "python3"
  },
  "language_info": {
   "codemirror_mode": {
    "name": "ipython",
    "version": 3
   },
   "file_extension": ".py",
   "mimetype": "text/x-python",
   "name": "python",
   "nbconvert_exporter": "python",
   "pygments_lexer": "ipython3",
   "version": "3.5.1"
  }
 },
 "nbformat": 4,
 "nbformat_minor": 2
}
